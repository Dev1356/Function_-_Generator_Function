{
 "cells": [
  {
   "cell_type": "markdown",
   "id": "ac2dd199-5ed7-4c1a-bbea-4952004c73df",
   "metadata": {},
   "source": [
    "Q1. Which keyword is used to create a function? Create a function to return a list of odd numbers in the \n",
    "range of 1 to 25\n",
    "<br>==> \"def\" is key word to defining the function."
   ]
  },
  {
   "cell_type": "code",
   "execution_count": 9,
   "id": "fbb12210-fe2c-4ac8-99a7-baa8da03e371",
   "metadata": {},
   "outputs": [],
   "source": [
    "def f_odd(n):\n",
    "    for i in range(0,n):\n",
    "        print(i+i+1)"
   ]
  },
  {
   "cell_type": "code",
   "execution_count": 10,
   "id": "5c4e3337-72a4-4a01-b2fc-a84f3d40b487",
   "metadata": {},
   "outputs": [
    {
     "name": "stdout",
     "output_type": "stream",
     "text": [
      "1\n",
      "3\n",
      "5\n",
      "7\n",
      "9\n",
      "11\n",
      "13\n",
      "15\n",
      "17\n",
      "19\n",
      "21\n",
      "23\n",
      "25\n"
     ]
    }
   ],
   "source": [
    "f_odd(13)"
   ]
  },
  {
   "cell_type": "markdown",
   "id": "01f895a7-0dd6-45a8-8d6d-6357643a5ed4",
   "metadata": {},
   "source": [
    "Q2. Why *args and **kwargs is used in some functions? Create a function each for *args and **kwargs to \n",
    "demonstrate their use\n",
    "<br>==>We can use *args and **kwargs as arguments of a function when you are unsure about the number of arguments to pass in the functions."
   ]
  },
  {
   "cell_type": "code",
   "execution_count": 21,
   "id": "07da5d2f-2da7-45ba-8486-a96c4abe7c99",
   "metadata": {},
   "outputs": [],
   "source": [
    "#to extract integers from given list\n",
    "def f(*arg):\n",
    "    n=[]\n",
    "    for i in arg:\n",
    "        if type(i)==int:\n",
    "            n.append(i)\n",
    "    return n          "
   ]
  },
  {
   "cell_type": "code",
   "execution_count": 22,
   "id": "918d330d-68fd-473c-b149-a65ef5de4e80",
   "metadata": {},
   "outputs": [
    {
     "data": {
      "text/plain": [
       "[1, 4, 3]"
      ]
     },
     "execution_count": 22,
     "metadata": {},
     "output_type": "execute_result"
    }
   ],
   "source": [
    "f(\"a\",\"b\",\"c\",1,\"d\",4,\"e\",3)"
   ]
  },
  {
   "cell_type": "code",
   "execution_count": 23,
   "id": "69f57a74-b568-4069-a235-c9b83f5e4130",
   "metadata": {},
   "outputs": [],
   "source": [
    "## to make list in dict\n",
    "def f1(**kwargs):\n",
    "    return kwargs\n",
    "    "
   ]
  },
  {
   "cell_type": "code",
   "execution_count": 25,
   "id": "92017fba-03f5-4205-ab8f-43f26a53429c",
   "metadata": {},
   "outputs": [
    {
     "data": {
      "text/plain": [
       "{'Name': 'Dev', 'Subject': 'Statistics', 'job_Role': 'Data Sciencestist'}"
      ]
     },
     "execution_count": 25,
     "metadata": {},
     "output_type": "execute_result"
    }
   ],
   "source": [
    "f1(Name=\"Dev\",Subject=\"Statistics\",job_Role=\"Data Sciencestist\")"
   ]
  },
  {
   "cell_type": "markdown",
   "id": "043bf34d-8ff7-41d1-958e-7a0bc7f4fe8a",
   "metadata": {},
   "source": [
    "Q3.  What is an iterator in python? Name the method used to initialise the iterator object and the method \n",
    "used for iteration. Use these methods to print the first five elements of the given list [2, 4, 6, 8, 10, 12, 14, 16, \n",
    "18, 20].\n",
    "<br>==>An iterator in Python is an object that implements the iterator protocol, which consists of the __\"iter\"__ and __\"next\"__ methods. An iterator is an object that can be iterated (looped) upon, meaning that you can traverse through all the values."
   ]
  },
  {
   "cell_type": "code",
   "execution_count": 41,
   "id": "83c4021c-9b4e-4eef-8db1-3916d4b8df72",
   "metadata": {},
   "outputs": [
    {
     "name": "stdout",
     "output_type": "stream",
     "text": [
      "2\n",
      "4\n",
      "6\n",
      "8\n",
      "10\n"
     ]
    }
   ],
   "source": [
    "lst = [2, 4, 6, 8, 10, 12, 14, 16, 18, 20]\n",
    "\n",
    "# initialize the iterator object\n",
    "it = iter(lst)\n",
    "\n",
    "# iterate through the values\n",
    "for i in range(5):\n",
    "    # get the next value from the iterator\n",
    "    value = next(it)\n",
    "    # print the value\n",
    "    print(value)"
   ]
  },
  {
   "cell_type": "markdown",
   "id": "d4bbc914-ce2f-4d35-8b76-a8b5af9e5d37",
   "metadata": {},
   "source": [
    "Q4.  What is a generator function in python? Why yield keyword is used? Give an example of a generator \n",
    "function.\n",
    "<br>==>A generator function in Python is a function that uses the yield keyword to return an iterator object that generates a sequence of values on-the-fly as they are requested. Unlike regular functions that return a value and then terminate, generator functions can be paused and resumed during their execution, allowing them to produce a series of values without needing to store them all in memory at once.\n",
    "\n",
    "The yield keyword is used in a generator function to indicate where the function should pause its execution and return the next value in the sequence. When the generator is resumed, execution continues from where it left off, and the function continues generating values until it reaches the end of the sequence or encounters a return statement."
   ]
  },
  {
   "cell_type": "code",
   "execution_count": 50,
   "id": "8a8bec4e-691f-4fa7-aa87-fb9e27ef818a",
   "metadata": {},
   "outputs": [],
   "source": [
    "def Geometric_series(a,r,n):\n",
    "    first_term=a\n",
    "    for i in range(n):\n",
    "        yield first_term\n",
    "        first_term *=r"
   ]
  },
  {
   "cell_type": "code",
   "execution_count": 51,
   "id": "b5850b6d-38d0-4265-b5b8-8a9ca54915ab",
   "metadata": {},
   "outputs": [
    {
     "data": {
      "text/plain": [
       "<generator object Geometric_series at 0x7ffa881a5930>"
      ]
     },
     "execution_count": 51,
     "metadata": {},
     "output_type": "execute_result"
    }
   ],
   "source": [
    "Geometric_series(3,5,10)## Generator function"
   ]
  },
  {
   "cell_type": "code",
   "execution_count": 52,
   "id": "3d44119b-f84a-491b-969f-4ecd14eb3025",
   "metadata": {},
   "outputs": [
    {
     "name": "stdout",
     "output_type": "stream",
     "text": [
      "3\n",
      "15\n",
      "75\n",
      "375\n",
      "1875\n",
      "9375\n",
      "46875\n",
      "234375\n",
      "1171875\n",
      "5859375\n"
     ]
    }
   ],
   "source": [
    "series = Geometric_series(3, 5, 10)\n",
    "for first_term in series:\n",
    "    print(first_term)"
   ]
  },
  {
   "cell_type": "markdown",
   "id": "5ef78a1a-e683-4ec4-8a1b-0c44306b957e",
   "metadata": {},
   "source": [
    "_Q5. Create a generator function for prime numbers less than 1000. Use the next() method to print the \n",
    "first 20 prime numbers_\n"
   ]
  },
  {
   "cell_type": "code",
   "execution_count": 74,
   "id": "d0f5b913-2395-4aab-9680-5852caae9520",
   "metadata": {},
   "outputs": [],
   "source": [
    "def primes(limit):\n",
    "    for n in range(2, limit):\n",
    "        for i in range(2, n):\n",
    "            if n % i == 0:\n",
    "                break\n",
    "        else:\n",
    "            yield n"
   ]
  },
  {
   "cell_type": "code",
   "execution_count": 75,
   "id": "1e8c58b3-1bc3-4bfb-a9cd-d478972bf093",
   "metadata": {},
   "outputs": [
    {
     "name": "stdout",
     "output_type": "stream",
     "text": [
      "2\n",
      "3\n",
      "5\n",
      "7\n",
      "11\n",
      "13\n",
      "17\n",
      "19\n",
      "23\n",
      "29\n",
      "31\n",
      "37\n",
      "41\n",
      "43\n",
      "47\n",
      "53\n",
      "59\n",
      "61\n",
      "67\n",
      "71\n"
     ]
    }
   ],
   "source": [
    "primes_gen = primes(100)\n",
    "\n",
    "for i in range(20):\n",
    "    print(next(primes_gen))"
   ]
  },
  {
   "cell_type": "code",
   "execution_count": null,
   "id": "d215b1f0-3297-4bc0-a20a-dd974a8a7d14",
   "metadata": {},
   "outputs": [],
   "source": []
  },
  {
   "cell_type": "code",
   "execution_count": null,
   "id": "c3a876b8-703e-44d4-809c-dfb8f88ce58b",
   "metadata": {},
   "outputs": [],
   "source": []
  },
  {
   "cell_type": "code",
   "execution_count": null,
   "id": "f3552a50-c20a-4275-bac7-e1928098d57d",
   "metadata": {},
   "outputs": [],
   "source": []
  },
  {
   "cell_type": "code",
   "execution_count": null,
   "id": "3d7f6c1c-222d-43d6-b693-4a443aec6443",
   "metadata": {},
   "outputs": [],
   "source": []
  }
 ],
 "metadata": {
  "kernelspec": {
   "display_name": "Python 3 (ipykernel)",
   "language": "python",
   "name": "python3"
  },
  "language_info": {
   "codemirror_mode": {
    "name": "ipython",
    "version": 3
   },
   "file_extension": ".py",
   "mimetype": "text/x-python",
   "name": "python",
   "nbconvert_exporter": "python",
   "pygments_lexer": "ipython3",
   "version": "3.10.8"
  }
 },
 "nbformat": 4,
 "nbformat_minor": 5
}
